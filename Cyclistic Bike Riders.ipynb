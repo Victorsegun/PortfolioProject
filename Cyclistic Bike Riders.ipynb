{
 "cells": [
  {
   "cell_type": "markdown",
   "id": "326484ff",
   "metadata": {},
   "source": [
    "# This is a Cyclistice Bike riders analysis\n",
    "\n",
    "It is target at analysing the preference of bike riders and the days most ride takes place either by full members or casuals.\n",
    "Recommendations from analysis will be also put forward to the marketing team as to how to get casual members become full members."
   ]
  },
  {
   "cell_type": "markdown",
   "id": "b0b81e0d",
   "metadata": {},
   "source": [
    "The fist step is to load the neccasry python librairies that will read data, ana;yse data and give visuals that can aid spot on understanding and therefater make recommendations."
   ]
  },
  {
   "cell_type": "code",
   "execution_count": 1,
   "id": "024108aa",
   "metadata": {},
   "outputs": [],
   "source": [
    "import pandas as pd\n",
    "import numpy as np\n",
    "import matplotlib.pyplot as plt\n",
    "import seaborn as sns\n",
    "%matplotlib inline\n",
    "\n",
    "plt.style.use('fivethirtyeight')"
   ]
  },
  {
   "cell_type": "code",
   "execution_count": 2,
   "id": "5f44f8b2",
   "metadata": {},
   "outputs": [],
   "source": [
    "Jan = pd.read_csv('C:/Users/pc/Desktop/Bikeshare/202101-divvy-tripdata.csv')\n",
    "Feb = pd.read_csv('C:/Users/pc/Desktop/Bikeshare/202102-divvy-tripdata.csv')\n",
    "Mar = pd.read_csv('C:/Users/pc/Desktop/Bikeshare/202103-divvy-tripdata.csv')\n",
    "Apr = pd.read_csv('C:/Users/pc/Desktop/Bikeshare/202104-divvy-tripdata.csv')\n",
    "May = pd.read_csv('C:/Users/pc/Desktop/Bikeshare/202105-divvy-tripdata.csv')\n",
    "Jun = pd.read_csv('C:/Users/pc/Desktop/Bikeshare/202106-divvy-tripdata.csv')\n",
    "Jul = pd.read_csv('C:/Users/pc/Desktop/Bikeshare/202107-divvy-tripdata.csv')\n",
    "Aug = pd.read_csv('C:/Users/pc/Desktop/Bikeshare/202108-divvy-tripdata.csv')\n",
    "Sep = pd.read_csv('C:/Users/pc/Desktop/Bikeshare/202109-divvy-tripdata.csv')\n",
    "Oct = pd.read_csv('C:/Users/pc/Desktop/Bikeshare/202110-divvy-tripdata.csv')\n",
    "Nov = pd.read_csv('C:/Users/pc/Desktop/Bikeshare/202111-divvy-tripdata.csv')\n",
    "Dec = pd.read_csv('C:/Users/pc/Desktop/Bikeshare/202112-divvy-tripdata.csv')"
   ]
  },
  {
   "cell_type": "code",
   "execution_count": 3,
   "id": "1f4f997d",
   "metadata": {},
   "outputs": [],
   "source": [
    "# lets merge the dataset into one data frame\n",
    "\n",
    "year_ride = pd.concat([Jan, Feb, Mar, Apr, May, Jun, Jul, Aug, Sep, Oct, Nov, Dec]).reset_index(drop=True)"
   ]
  },
  {
   "cell_type": "code",
   "execution_count": 4,
   "id": "52d7c830",
   "metadata": {},
   "outputs": [
    {
     "name": "stdout",
     "output_type": "stream",
     "text": [
      "<class 'pandas.core.frame.DataFrame'>\n",
      "RangeIndex: 5595063 entries, 0 to 5595062\n",
      "Data columns (total 13 columns):\n",
      " #   Column              Dtype  \n",
      "---  ------              -----  \n",
      " 0   ride_id             object \n",
      " 1   rideable_type       object \n",
      " 2   started_at          object \n",
      " 3   ended_at            object \n",
      " 4   start_station_name  object \n",
      " 5   start_station_id    object \n",
      " 6   end_station_name    object \n",
      " 7   end_station_id      object \n",
      " 8   start_lat           float64\n",
      " 9   start_lng           float64\n",
      " 10  end_lat             float64\n",
      " 11  end_lng             float64\n",
      " 12  member_casual       object \n",
      "dtypes: float64(4), object(9)\n",
      "memory usage: 554.9+ MB\n"
     ]
    }
   ],
   "source": [
    "# We will check out the data structure\n",
    "\n",
    "year_ride.info()"
   ]
  },
  {
   "cell_type": "code",
   "execution_count": 8,
   "id": "c05c9fff",
   "metadata": {
    "scrolled": true
   },
   "outputs": [
    {
     "data": {
      "text/html": [
       "<div>\n",
       "<style scoped>\n",
       "    .dataframe tbody tr th:only-of-type {\n",
       "        vertical-align: middle;\n",
       "    }\n",
       "\n",
       "    .dataframe tbody tr th {\n",
       "        vertical-align: top;\n",
       "    }\n",
       "\n",
       "    .dataframe thead th {\n",
       "        text-align: right;\n",
       "    }\n",
       "</style>\n",
       "<table border=\"1\" class=\"dataframe\">\n",
       "  <thead>\n",
       "    <tr style=\"text-align: right;\">\n",
       "      <th></th>\n",
       "      <th>ride_id</th>\n",
       "      <th>rideable_type</th>\n",
       "      <th>started_at</th>\n",
       "      <th>ended_at</th>\n",
       "      <th>start_station_name</th>\n",
       "      <th>start_station_id</th>\n",
       "      <th>end_station_name</th>\n",
       "      <th>end_station_id</th>\n",
       "      <th>start_lat</th>\n",
       "      <th>start_lng</th>\n",
       "      <th>end_lat</th>\n",
       "      <th>end_lng</th>\n",
       "      <th>member_casual</th>\n",
       "    </tr>\n",
       "  </thead>\n",
       "  <tbody>\n",
       "    <tr>\n",
       "      <th>0</th>\n",
       "      <td>E19E6F1B8D4C42ED</td>\n",
       "      <td>electric_bike</td>\n",
       "      <td>2021-01-23 16:14:19</td>\n",
       "      <td>2021-01-23 16:24:44</td>\n",
       "      <td>California Ave &amp; Cortez St</td>\n",
       "      <td>17660</td>\n",
       "      <td>NaN</td>\n",
       "      <td>NaN</td>\n",
       "      <td>41.900341</td>\n",
       "      <td>-87.696743</td>\n",
       "      <td>41.890000</td>\n",
       "      <td>-87.720000</td>\n",
       "      <td>member</td>\n",
       "    </tr>\n",
       "    <tr>\n",
       "      <th>1</th>\n",
       "      <td>DC88F20C2C55F27F</td>\n",
       "      <td>electric_bike</td>\n",
       "      <td>2021-01-27 18:43:08</td>\n",
       "      <td>2021-01-27 18:47:12</td>\n",
       "      <td>California Ave &amp; Cortez St</td>\n",
       "      <td>17660</td>\n",
       "      <td>NaN</td>\n",
       "      <td>NaN</td>\n",
       "      <td>41.900333</td>\n",
       "      <td>-87.696707</td>\n",
       "      <td>41.900000</td>\n",
       "      <td>-87.690000</td>\n",
       "      <td>member</td>\n",
       "    </tr>\n",
       "    <tr>\n",
       "      <th>2</th>\n",
       "      <td>EC45C94683FE3F27</td>\n",
       "      <td>electric_bike</td>\n",
       "      <td>2021-01-21 22:35:54</td>\n",
       "      <td>2021-01-21 22:37:14</td>\n",
       "      <td>California Ave &amp; Cortez St</td>\n",
       "      <td>17660</td>\n",
       "      <td>NaN</td>\n",
       "      <td>NaN</td>\n",
       "      <td>41.900313</td>\n",
       "      <td>-87.696643</td>\n",
       "      <td>41.900000</td>\n",
       "      <td>-87.700000</td>\n",
       "      <td>member</td>\n",
       "    </tr>\n",
       "    <tr>\n",
       "      <th>3</th>\n",
       "      <td>4FA453A75AE377DB</td>\n",
       "      <td>electric_bike</td>\n",
       "      <td>2021-01-07 13:31:13</td>\n",
       "      <td>2021-01-07 13:42:55</td>\n",
       "      <td>California Ave &amp; Cortez St</td>\n",
       "      <td>17660</td>\n",
       "      <td>NaN</td>\n",
       "      <td>NaN</td>\n",
       "      <td>41.900399</td>\n",
       "      <td>-87.696662</td>\n",
       "      <td>41.920000</td>\n",
       "      <td>-87.690000</td>\n",
       "      <td>member</td>\n",
       "    </tr>\n",
       "    <tr>\n",
       "      <th>4</th>\n",
       "      <td>BE5E8EB4E7263A0B</td>\n",
       "      <td>electric_bike</td>\n",
       "      <td>2021-01-23 02:24:02</td>\n",
       "      <td>2021-01-23 02:24:45</td>\n",
       "      <td>California Ave &amp; Cortez St</td>\n",
       "      <td>17660</td>\n",
       "      <td>NaN</td>\n",
       "      <td>NaN</td>\n",
       "      <td>41.900326</td>\n",
       "      <td>-87.696697</td>\n",
       "      <td>41.900000</td>\n",
       "      <td>-87.700000</td>\n",
       "      <td>casual</td>\n",
       "    </tr>\n",
       "    <tr>\n",
       "      <th>...</th>\n",
       "      <td>...</td>\n",
       "      <td>...</td>\n",
       "      <td>...</td>\n",
       "      <td>...</td>\n",
       "      <td>...</td>\n",
       "      <td>...</td>\n",
       "      <td>...</td>\n",
       "      <td>...</td>\n",
       "      <td>...</td>\n",
       "      <td>...</td>\n",
       "      <td>...</td>\n",
       "      <td>...</td>\n",
       "      <td>...</td>\n",
       "    </tr>\n",
       "    <tr>\n",
       "      <th>5595058</th>\n",
       "      <td>847431F3D5353AB7</td>\n",
       "      <td>electric_bike</td>\n",
       "      <td>2021-12-12 13:36:55</td>\n",
       "      <td>2021-12-12 13:56:08</td>\n",
       "      <td>Canal St &amp; Madison St</td>\n",
       "      <td>13341</td>\n",
       "      <td>NaN</td>\n",
       "      <td>NaN</td>\n",
       "      <td>41.882289</td>\n",
       "      <td>-87.639752</td>\n",
       "      <td>41.890000</td>\n",
       "      <td>-87.610000</td>\n",
       "      <td>casual</td>\n",
       "    </tr>\n",
       "    <tr>\n",
       "      <th>5595059</th>\n",
       "      <td>CF407BBC3B9FAD63</td>\n",
       "      <td>electric_bike</td>\n",
       "      <td>2021-12-06 19:37:50</td>\n",
       "      <td>2021-12-06 19:44:51</td>\n",
       "      <td>Canal St &amp; Madison St</td>\n",
       "      <td>13341</td>\n",
       "      <td>Kingsbury St &amp; Kinzie St</td>\n",
       "      <td>KA1503000043</td>\n",
       "      <td>41.882123</td>\n",
       "      <td>-87.640053</td>\n",
       "      <td>41.889106</td>\n",
       "      <td>-87.638862</td>\n",
       "      <td>member</td>\n",
       "    </tr>\n",
       "    <tr>\n",
       "      <th>5595060</th>\n",
       "      <td>60BB69EBF5440E92</td>\n",
       "      <td>electric_bike</td>\n",
       "      <td>2021-12-02 08:57:04</td>\n",
       "      <td>2021-12-02 09:05:21</td>\n",
       "      <td>Canal St &amp; Madison St</td>\n",
       "      <td>13341</td>\n",
       "      <td>Dearborn St &amp; Monroe St</td>\n",
       "      <td>TA1305000006</td>\n",
       "      <td>41.881956</td>\n",
       "      <td>-87.639955</td>\n",
       "      <td>41.880254</td>\n",
       "      <td>-87.629603</td>\n",
       "      <td>member</td>\n",
       "    </tr>\n",
       "    <tr>\n",
       "      <th>5595061</th>\n",
       "      <td>C414F654A28635B8</td>\n",
       "      <td>electric_bike</td>\n",
       "      <td>2021-12-13 09:00:26</td>\n",
       "      <td>2021-12-13 09:14:39</td>\n",
       "      <td>Lawndale Ave &amp; 16th St</td>\n",
       "      <td>362.0</td>\n",
       "      <td>NaN</td>\n",
       "      <td>NaN</td>\n",
       "      <td>41.860000</td>\n",
       "      <td>-87.720000</td>\n",
       "      <td>41.850000</td>\n",
       "      <td>-87.710000</td>\n",
       "      <td>member</td>\n",
       "    </tr>\n",
       "    <tr>\n",
       "      <th>5595062</th>\n",
       "      <td>37AC57E34B2E7E97</td>\n",
       "      <td>classic_bike</td>\n",
       "      <td>2021-12-13 08:45:32</td>\n",
       "      <td>2021-12-13 08:49:09</td>\n",
       "      <td>Michigan Ave &amp; Jackson Blvd</td>\n",
       "      <td>TA1309000002</td>\n",
       "      <td>Dearborn St &amp; Monroe St</td>\n",
       "      <td>TA1305000006</td>\n",
       "      <td>41.877850</td>\n",
       "      <td>-87.624080</td>\n",
       "      <td>41.881320</td>\n",
       "      <td>-87.629521</td>\n",
       "      <td>member</td>\n",
       "    </tr>\n",
       "  </tbody>\n",
       "</table>\n",
       "<p>5595063 rows × 13 columns</p>\n",
       "</div>"
      ],
      "text/plain": [
       "                  ride_id  rideable_type           started_at  \\\n",
       "0        E19E6F1B8D4C42ED  electric_bike  2021-01-23 16:14:19   \n",
       "1        DC88F20C2C55F27F  electric_bike  2021-01-27 18:43:08   \n",
       "2        EC45C94683FE3F27  electric_bike  2021-01-21 22:35:54   \n",
       "3        4FA453A75AE377DB  electric_bike  2021-01-07 13:31:13   \n",
       "4        BE5E8EB4E7263A0B  electric_bike  2021-01-23 02:24:02   \n",
       "...                   ...            ...                  ...   \n",
       "5595058  847431F3D5353AB7  electric_bike  2021-12-12 13:36:55   \n",
       "5595059  CF407BBC3B9FAD63  electric_bike  2021-12-06 19:37:50   \n",
       "5595060  60BB69EBF5440E92  electric_bike  2021-12-02 08:57:04   \n",
       "5595061  C414F654A28635B8  electric_bike  2021-12-13 09:00:26   \n",
       "5595062  37AC57E34B2E7E97   classic_bike  2021-12-13 08:45:32   \n",
       "\n",
       "                    ended_at           start_station_name start_station_id  \\\n",
       "0        2021-01-23 16:24:44   California Ave & Cortez St            17660   \n",
       "1        2021-01-27 18:47:12   California Ave & Cortez St            17660   \n",
       "2        2021-01-21 22:37:14   California Ave & Cortez St            17660   \n",
       "3        2021-01-07 13:42:55   California Ave & Cortez St            17660   \n",
       "4        2021-01-23 02:24:45   California Ave & Cortez St            17660   \n",
       "...                      ...                          ...              ...   \n",
       "5595058  2021-12-12 13:56:08        Canal St & Madison St            13341   \n",
       "5595059  2021-12-06 19:44:51        Canal St & Madison St            13341   \n",
       "5595060  2021-12-02 09:05:21        Canal St & Madison St            13341   \n",
       "5595061  2021-12-13 09:14:39       Lawndale Ave & 16th St            362.0   \n",
       "5595062  2021-12-13 08:49:09  Michigan Ave & Jackson Blvd     TA1309000002   \n",
       "\n",
       "                 end_station_name end_station_id  start_lat  start_lng  \\\n",
       "0                             NaN            NaN  41.900341 -87.696743   \n",
       "1                             NaN            NaN  41.900333 -87.696707   \n",
       "2                             NaN            NaN  41.900313 -87.696643   \n",
       "3                             NaN            NaN  41.900399 -87.696662   \n",
       "4                             NaN            NaN  41.900326 -87.696697   \n",
       "...                           ...            ...        ...        ...   \n",
       "5595058                       NaN            NaN  41.882289 -87.639752   \n",
       "5595059  Kingsbury St & Kinzie St   KA1503000043  41.882123 -87.640053   \n",
       "5595060   Dearborn St & Monroe St   TA1305000006  41.881956 -87.639955   \n",
       "5595061                       NaN            NaN  41.860000 -87.720000   \n",
       "5595062   Dearborn St & Monroe St   TA1305000006  41.877850 -87.624080   \n",
       "\n",
       "           end_lat    end_lng member_casual  \n",
       "0        41.890000 -87.720000        member  \n",
       "1        41.900000 -87.690000        member  \n",
       "2        41.900000 -87.700000        member  \n",
       "3        41.920000 -87.690000        member  \n",
       "4        41.900000 -87.700000        casual  \n",
       "...            ...        ...           ...  \n",
       "5595058  41.890000 -87.610000        casual  \n",
       "5595059  41.889106 -87.638862        member  \n",
       "5595060  41.880254 -87.629603        member  \n",
       "5595061  41.850000 -87.710000        member  \n",
       "5595062  41.881320 -87.629521        member  \n",
       "\n",
       "[5595063 rows x 13 columns]"
      ]
     },
     "execution_count": 8,
     "metadata": {},
     "output_type": "execute_result"
    }
   ],
   "source": [
    "# View the dataset\n",
    "year_ride"
   ]
  },
  {
   "cell_type": "markdown",
   "id": "898edfd1",
   "metadata": {},
   "source": [
    "The dataset has 13 columns to work with and the data type is clear to us now"
   ]
  },
  {
   "cell_type": "code",
   "execution_count": 9,
   "id": "68e92646",
   "metadata": {},
   "outputs": [
    {
     "data": {
      "text/plain": [
       "ride_id                    0\n",
       "rideable_type              0\n",
       "started_at                 0\n",
       "ended_at                   0\n",
       "start_station_name    690809\n",
       "start_station_id      690806\n",
       "end_station_name      739170\n",
       "end_station_id        739170\n",
       "start_lat                  0\n",
       "start_lng                  0\n",
       "end_lat                 4771\n",
       "end_lng                 4771\n",
       "member_casual              0\n",
       "dtype: int64"
      ]
     },
     "execution_count": 9,
     "metadata": {},
     "output_type": "execute_result"
    }
   ],
   "source": [
    "# It's important that we check for missing values in each column\n",
    "\n",
    "year_ride.isnull().sum()"
   ]
  },
  {
   "cell_type": "code",
   "execution_count": 29,
   "id": "fef9a2b8",
   "metadata": {},
   "outputs": [],
   "source": [
    "# Then we also check for duplicattes\n",
    "\n",
    "year_bike = ~ year_ride.duplicated()\n",
    "year_ride = year_ride[year_bike]"
   ]
  },
  {
   "cell_type": "markdown",
   "id": "bfe68765",
   "metadata": {},
   "source": [
    "There are inconsistencies with our data, this is obviuos as it reflects in the columns such as the end_station_id, start_station_id, end_station_name and start_station_name which have over 700000 missing records while the end_lng and end_lat have 4771 missing values. However, the total number rows are very plenty, hence I will remove rows with missing values without affecting my ananlysis. Furthermore, the end_at and started_at will be splitted into time and date seperate columns. Then I will rename some columns for ease of handling."
   ]
  },
  {
   "cell_type": "code",
   "execution_count": 30,
   "id": "c8e9f490",
   "metadata": {},
   "outputs": [],
   "source": [
    "# Doing more to delete rows with NA values\n",
    "\n",
    "year_ride = year_ride.dropna().reset_index(drop=True)"
   ]
  },
  {
   "cell_type": "code",
   "execution_count": 12,
   "id": "2644fa3b",
   "metadata": {},
   "outputs": [],
   "source": [
    "# Ensuring date format\n",
    "\n",
    "year_ride['started_at'] = pd.to_datetime(year_ride['started_at'])\n",
    "year_ride['ended_at'] = pd.to_datetime(year_ride['ended_at'])"
   ]
  },
  {
   "cell_type": "code",
   "execution_count": 13,
   "id": "8ce84f28",
   "metadata": {},
   "outputs": [],
   "source": [
    "# rename columns for ease of understanding\n",
    "\n",
    "year_ride.rename(columns={'rideable_type':'bike_type','started_at':'start_date','ended_at':'end_date', 'member_casual':'customer_type'}, inplace=True)"
   ]
  },
  {
   "cell_type": "markdown",
   "id": "0544502e",
   "metadata": {},
   "source": [
    "The data is tidy and good for use, the next step will be to add new columns from information gotten from the dataset. So let's add trip duration, days and month column. And rename the variables in the customer_type column. The casual will be renamed casual riders while the member will be renamed subscribers, this is to make it easy for analysis."
   ]
  },
  {
   "cell_type": "code",
   "execution_count": 14,
   "id": "f003d4e8",
   "metadata": {},
   "outputs": [],
   "source": [
    "# Add some new columns\n",
    "\n",
    "year_ride['days'] = year_ride.start_date.dt.day_name()\n",
    "year_ride['month'] = year_ride.start_date.dt.month_name()\n",
    "tsecs = (year_ride['end_date'] - year_ride['start_date']).dt.total_seconds()\n",
    "year_ride['trip_duration'] = tsecs/60\n",
    "year_ride['trip_duration'] = year_ride['trip_duration'].astype(int)"
   ]
  },
  {
   "cell_type": "code",
   "execution_count": 17,
   "id": "c9d989b0",
   "metadata": {},
   "outputs": [],
   "source": [
    "year_ride[\"customer_type\"].replace({\"member\":\"subscriber\", \"customer\":\"casual riders\"}, inplace=True)"
   ]
  },
  {
   "cell_type": "markdown",
   "id": "1414699b",
   "metadata": {},
   "source": [
    "# DATA EXPLORATION AND VISUALIZATION\n",
    "The main objective is to understand the behavior of casual riders and from the analysis provide recommendations that would ensure that they turn into subscribers (annual membership plan)"
   ]
  },
  {
   "cell_type": "code",
   "execution_count": 18,
   "id": "0992dea4",
   "metadata": {},
   "outputs": [
    {
     "data": {
      "text/html": [
       "<div>\n",
       "<style scoped>\n",
       "    .dataframe tbody tr th:only-of-type {\n",
       "        vertical-align: middle;\n",
       "    }\n",
       "\n",
       "    .dataframe tbody tr th {\n",
       "        vertical-align: top;\n",
       "    }\n",
       "\n",
       "    .dataframe thead th {\n",
       "        text-align: right;\n",
       "    }\n",
       "</style>\n",
       "<table border=\"1\" class=\"dataframe\">\n",
       "  <thead>\n",
       "    <tr style=\"text-align: right;\">\n",
       "      <th></th>\n",
       "      <th>mean_trip_duration</th>\n",
       "      <th>day_id</th>\n",
       "    </tr>\n",
       "    <tr>\n",
       "      <th>days</th>\n",
       "      <th></th>\n",
       "      <th></th>\n",
       "    </tr>\n",
       "  </thead>\n",
       "  <tbody>\n",
       "    <tr>\n",
       "      <th>Sunday</th>\n",
       "      <td>37.108356</td>\n",
       "      <td>0</td>\n",
       "    </tr>\n",
       "    <tr>\n",
       "      <th>Monday</th>\n",
       "      <td>32.146748</td>\n",
       "      <td>1</td>\n",
       "    </tr>\n",
       "    <tr>\n",
       "      <th>Tuesday</th>\n",
       "      <td>28.312329</td>\n",
       "      <td>2</td>\n",
       "    </tr>\n",
       "    <tr>\n",
       "      <th>Wednesday</th>\n",
       "      <td>27.778274</td>\n",
       "      <td>3</td>\n",
       "    </tr>\n",
       "    <tr>\n",
       "      <th>Thursday</th>\n",
       "      <td>27.519551</td>\n",
       "      <td>4</td>\n",
       "    </tr>\n",
       "    <tr>\n",
       "      <th>Friday</th>\n",
       "      <td>30.427603</td>\n",
       "      <td>5</td>\n",
       "    </tr>\n",
       "    <tr>\n",
       "      <th>Saturday</th>\n",
       "      <td>34.381732</td>\n",
       "      <td>6</td>\n",
       "    </tr>\n",
       "  </tbody>\n",
       "</table>\n",
       "</div>"
      ],
      "text/plain": [
       "           mean_trip_duration  day_id\n",
       "days                                 \n",
       "Sunday              37.108356       0\n",
       "Monday              32.146748       1\n",
       "Tuesday             28.312329       2\n",
       "Wednesday           27.778274       3\n",
       "Thursday            27.519551       4\n",
       "Friday              30.427603       5\n",
       "Saturday            34.381732       6"
      ]
     },
     "execution_count": 18,
     "metadata": {},
     "output_type": "execute_result"
    }
   ],
   "source": [
    "# Let's annalyse the mean daily average trips of casual riders\n",
    "\n",
    "casual = year_ride['customer_type'] == \"casual\"\n",
    "casual_riders = year_ride[casual]\n",
    "mean_daily_trip = casual_riders.groupby('days').agg(mean_trip_duration=('trip_duration', 'mean'))\n",
    "\n",
    "sorter = ['Sunday', 'Monday', 'Tuesday', 'Wednesday', 'Thursday', 'Friday', 'Saturday']\n",
    "sorterIndex = dict(zip(sorter,range(len(sorter))))\n",
    "mean_daily_trip['day_id'] = mean_daily_trip.index\n",
    "mean_daily_trip['day_id'] = mean_daily_trip['day_id'].map(sorterIndex)\n",
    "mean_daily_trip.sort_values('day_id', inplace=True)\n",
    "mean_daily_trip"
   ]
  },
  {
   "cell_type": "code",
   "execution_count": 19,
   "id": "0643d5cc",
   "metadata": {},
   "outputs": [
    {
     "data": {
      "text/plain": [
       "Text(0, 0.5, 'average trip duration')"
      ]
     },
     "execution_count": 19,
     "metadata": {},
     "output_type": "execute_result"
    },
    {
     "data": {
      "image/png": "[encoded data removed]",
      "text/plain": [
       "<Figure size 720x432 with 1 Axes>"
      ]
     },
     "metadata": {},
     "output_type": "display_data"
    }
   ],
   "source": [
    "# The next step is to plot the graph \n",
    "\n",
    "fig, ax = plt.subplots(figsize=(10,6), facecolor='white')\n",
    " \n",
    "ax.bar(mean_daily_trip.day_id, mean_daily_trip.mean_trip_duration)\n",
    "ax.set_xticks([x+0.4 for x in mean_daily_trip.day_id])\n",
    "ax.set_xticklabels(mean_daily_trip.index)\n",
    "ax.set_facecolor('white')\n",
    "ax.set_xlabel('days')\n",
    "ax.set_ylabel('average trip duration')"
   ]
  },
  {
   "cell_type": "code",
   "execution_count": 20,
   "id": "f12299ff",
   "metadata": {},
   "outputs": [
    {
     "data": {
      "text/html": [
       "<div>\n",
       "<style scoped>\n",
       "    .dataframe tbody tr th:only-of-type {\n",
       "        vertical-align: middle;\n",
       "    }\n",
       "\n",
       "    .dataframe tbody tr th {\n",
       "        vertical-align: top;\n",
       "    }\n",
       "\n",
       "    .dataframe thead th {\n",
       "        text-align: right;\n",
       "    }\n",
       "</style>\n",
       "<table border=\"1\" class=\"dataframe\">\n",
       "  <thead>\n",
       "    <tr style=\"text-align: right;\">\n",
       "      <th></th>\n",
       "      <th>total_rides</th>\n",
       "      <th>average_rides</th>\n",
       "      <th>month_id</th>\n",
       "    </tr>\n",
       "    <tr>\n",
       "      <th>month</th>\n",
       "      <th></th>\n",
       "      <th></th>\n",
       "      <th></th>\n",
       "    </tr>\n",
       "  </thead>\n",
       "  <tbody>\n",
       "    <tr>\n",
       "      <th>January</th>\n",
       "      <td>14690</td>\n",
       "      <td>25.879306</td>\n",
       "      <td>0</td>\n",
       "    </tr>\n",
       "    <tr>\n",
       "      <th>February</th>\n",
       "      <td>8613</td>\n",
       "      <td>46.646697</td>\n",
       "      <td>1</td>\n",
       "    </tr>\n",
       "    <tr>\n",
       "      <th>March</th>\n",
       "      <td>75642</td>\n",
       "      <td>37.989609</td>\n",
       "      <td>2</td>\n",
       "    </tr>\n",
       "    <tr>\n",
       "      <th>April</th>\n",
       "      <td>120420</td>\n",
       "      <td>37.950722</td>\n",
       "      <td>3</td>\n",
       "    </tr>\n",
       "    <tr>\n",
       "      <th>May</th>\n",
       "      <td>216829</td>\n",
       "      <td>39.144552</td>\n",
       "      <td>4</td>\n",
       "    </tr>\n",
       "    <tr>\n",
       "      <th>June</th>\n",
       "      <td>304192</td>\n",
       "      <td>38.029120</td>\n",
       "      <td>5</td>\n",
       "    </tr>\n",
       "    <tr>\n",
       "      <th>July</th>\n",
       "      <td>369415</td>\n",
       "      <td>32.793549</td>\n",
       "      <td>6</td>\n",
       "    </tr>\n",
       "    <tr>\n",
       "      <th>August</th>\n",
       "      <td>341476</td>\n",
       "      <td>28.073513</td>\n",
       "      <td>7</td>\n",
       "    </tr>\n",
       "    <tr>\n",
       "      <th>September</th>\n",
       "      <td>292931</td>\n",
       "      <td>27.597543</td>\n",
       "      <td>8</td>\n",
       "    </tr>\n",
       "    <tr>\n",
       "      <th>October</th>\n",
       "      <td>189117</td>\n",
       "      <td>25.823369</td>\n",
       "      <td>9</td>\n",
       "    </tr>\n",
       "    <tr>\n",
       "      <th>November</th>\n",
       "      <td>69978</td>\n",
       "      <td>21.975964</td>\n",
       "      <td>10</td>\n",
       "    </tr>\n",
       "    <tr>\n",
       "      <th>December</th>\n",
       "      <td>45076</td>\n",
       "      <td>24.354890</td>\n",
       "      <td>11</td>\n",
       "    </tr>\n",
       "  </tbody>\n",
       "</table>\n",
       "</div>"
      ],
      "text/plain": [
       "           total_rides  average_rides  month_id\n",
       "month                                          \n",
       "January          14690      25.879306         0\n",
       "February          8613      46.646697         1\n",
       "March            75642      37.989609         2\n",
       "April           120420      37.950722         3\n",
       "May             216829      39.144552         4\n",
       "June            304192      38.029120         5\n",
       "July            369415      32.793549         6\n",
       "August          341476      28.073513         7\n",
       "September       292931      27.597543         8\n",
       "October         189117      25.823369         9\n",
       "November         69978      21.975964        10\n",
       "December         45076      24.354890        11"
      ]
     },
     "execution_count": 20,
     "metadata": {},
     "output_type": "execute_result"
    }
   ],
   "source": [
    "# Calculate the total monthly rides \n",
    "\n",
    "casual = year_ride['customer_type'] == \"casual\"\n",
    "casual_riders = year_ride[casual]\n",
    "total_monthly_rides = casual_riders.groupby('month').agg(total_rides=('start_date', 'count'), average_rides=('trip_duration', 'mean'))\n",
    "\n",
    "# The monthly usage of cyclistic services by casual riders\n",
    "\n",
    "sorter = ['January', 'February', 'March', 'April', 'May', 'June', 'July', 'August', 'September', 'October', 'November', 'December']\n",
    "sorterIndex = dict(zip(sorter,range(len(sorter))))\n",
    "total_monthly_rides['month_id'] = total_monthly_rides.index\n",
    "total_monthly_rides['month_id'] = total_monthly_rides['month_id'].map(sorterIndex)\n",
    "total_monthly_rides.sort_values('month_id', inplace=True)\n",
    "total_monthly_rides"
   ]
  },
  {
   "cell_type": "code",
   "execution_count": 21,
   "id": "17d6132f",
   "metadata": {},
   "outputs": [
    {
     "data": {
      "text/plain": [
       "Text(0, 0.5, 'total trips')"
      ]
     },
     "execution_count": 21,
     "metadata": {},
     "output_type": "execute_result"
    },
    {
     "data": {
      "image/png": "[encoded data removed]",
      "text/plain": [
       "<Figure size 864x432 with 1 Axes>"
      ]
     },
     "metadata": {},
     "output_type": "display_data"
    }
   ],
   "source": [
    "# Furthermore plot the total monthly rides against the months\n",
    "\n",
    "fig, ax = plt.subplots(figsize=(12,6), facecolor='white')\n",
    " \n",
    "ax.bar(total_monthly_rides.month_id, total_monthly_rides.total_rides)\n",
    "ax.set_xticks([x+0.4 for x in total_monthly_rides.month_id])\n",
    "ax.set_xticklabels(total_monthly_rides.index)\n",
    "ax.set_facecolor('white')\n",
    "ax.set_xlabel('months')\n",
    "ax.set_ylabel('total trips')"
   ]
  },
  {
   "cell_type": "code",
   "execution_count": 28,
   "id": "b83f163b",
   "metadata": {},
   "outputs": [
    {
     "data": {
      "text/plain": [
       "<AxesSubplot:ylabel='total_ride'>"
      ]
     },
     "execution_count": 28,
     "metadata": {},
     "output_type": "execute_result"
    },
    {
     "data": {
      "image/png": "[encoded data removed]",
      "text/plain": [
       "<Figure size 432x288 with 1 Axes>"
      ]
     },
     "metadata": {},
     "output_type": "display_data"
    }
   ],
   "source": [
    "# To understand the bike type usage level among casual customers we will do the below\n",
    "\n",
    "casual = year_ride['customer_type'] == \"casual\"\n",
    "casual_riders = year_ride[casual]\n",
    "total_monthly_rides = casual_riders.groupby('bike_type').agg(total_ride=('start_date','count')).reset_index()\n",
    "\n",
    "  \n",
    "# Create explode data\n",
    "\n",
    "explode = (0.1, 0.1, 0.0,)\n",
    " \n",
    "# Creating color parameters\n",
    "\n",
    "colors = ( \"green\", \"cyan\", \"brown\")\n",
    " \n",
    "# And Wedge properties\n",
    "\n",
    "wp = { 'linewidth' : 1, 'edgecolor' : \"green\" }\n",
    "# Plotting the pie chart for above dataframe\n",
    "total_monthly_rides.groupby(['bike_type']).sum().plot(\n",
    "    kind='pie', y='total_ride', \n",
    "  autopct='%1.0f%%', colors=colors, startangle = 90, wedgeprops = wp)\n",
    "\n"
   ]
  },
  {
   "cell_type": "markdown",
   "id": "f966f317",
   "metadata": {},
   "source": [
    "# CONCLUSION\n",
    "\n",
    "The analysis I carried brought to notice that there is an average increase in ride duration of casual riders during the weekends with Sunday recording the highest average duration of over 35 minutes. Also, the Summer accounts for the period with the most number of rides by casual riders. July witnessed the highest total number of rides with 369415 total number of rides. December, January and February had individul ride totals of below 50000. Finally,the most popular bike type among casual riders is the classic bike while the least popular is docked bike a 15% total usage\n",
    "\n",
    "*RECOMMENDATION*\n",
    "\n",
    "In proferring my recommendation, I will recommend to the Cyclistic marketing team to provide cnoversion campaigns that will focus on creating promos for annual memberships during weekends and also Summer periods. Additionally, there should an emphasis for promos on classic bikes as most casual riders (62%) opt for this bike type.\n",
    "\n"
   ]
  },
  {
   "cell_type": "code",
   "execution_count": null,
   "id": "5f12554b",
   "metadata": {},
   "outputs": [],
   "source": []
  }
 ],
 "metadata": {
  "kernelspec": {
   "display_name": "Python 3",
   "language": "python",
   "name": "python3"
  },
  "language_info": {
   "codemirror_mode": {
    "name": "ipython",
    "version": 3
   },
   "file_extension": ".py",
   "mimetype": "text/x-python",
   "name": "python",
   "nbconvert_exporter": "python",
   "pygments_lexer": "ipython3",
   "version": "3.8.8"
  }
 },
 "nbformat": 4,
 "nbformat_minor": 5
}
